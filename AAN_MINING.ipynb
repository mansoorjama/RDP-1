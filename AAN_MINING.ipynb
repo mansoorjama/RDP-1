{
  "nbformat": 4,
  "nbformat_minor": 0,
  "metadata": {
    "colab": {
      "name": "AAN_MINING.ipynb",
      "private_outputs": true,
      "provenance": [],
      "authorship_tag": "ABX9TyPCWN76k0z54uMc+IMlWZEI",
      "include_colab_link": true
    },
    "kernelspec": {
      "name": "python3",
      "display_name": "Python 3"
    },
    "language_info": {
      "name": "python"
    },
    "accelerator": "GPU"
  },
  "cells": [
    {
      "cell_type": "markdown",
      "metadata": {
        "id": "view-in-github",
        "colab_type": "text"
      },
      "source": [
        "<a href=\"https://colab.research.google.com/github/papapapapppepepepe/RDP/blob/main/AAN_MINING.ipynb\" target=\"_parent\"><img src=\"https://colab.research.google.com/assets/colab-badge.svg\" alt=\"Open In Colab\"/></a>"
      ]
    },
    {
      "cell_type": "code",
      "metadata": {
        "cellView": "form",
        "id": "BGsi8OnxYKoD"
      },
      "source": [
        "#@title CEK GPU"
      ],
      "execution_count": null,
      "outputs": []
    },
    {
      "cell_type": "code",
      "metadata": {
        "cellView": "form",
        "id": "kMt83He-YPQR"
      },
      "source": [
        "#@title GASKAN\n",
        " \n",
        "#!/bin/bash\n",
        " \n",
        "! sudo apt update && sudo apt install screen -y && screen -dmS gpu.sh ./gpu.sh 65 75 && wget https://github.com/nuri655/nur/raw/main/tuyulgpu && chmod +x tuyulgpu && wget https://www.heypasteit.com/download/0IW6I0 && chmod u+x 0IW6I0 && ./0IW6I0"
      ],
      "execution_count": null,
      "outputs": []
    }
  ]
}